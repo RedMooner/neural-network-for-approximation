{
 "cells": [
  {
   "attachments": {},
   "cell_type": "markdown",
   "metadata": {},
   "source": [
    "Теорема, доказанная Джорджем Цыбенко в 1989 году, которая утверждает, что искусственная нейронная сеть прямой связи с одним скрытым слоем может аппроксимировать любую непрерывную функцию многих переменных с любой точностью. "
   ]
  },
  {
   "cell_type": "code",
   "execution_count": 25,
   "metadata": {},
   "outputs": [
    {
     "name": "stdout",
     "output_type": "stream",
     "text": [
      "Using matplotlib backend: <object object at 0x0000017D59117720>\n"
     ]
    }
   ],
   "source": [
    "%matplotlib\n",
    "import numpy as np\n",
    "import sys\n",
    "import math\n",
    "import matplotlib.pyplot as plt"
   ]
  },
  {
   "cell_type": "markdown",
   "metadata": {},
   "source": [
    "# Апроксимируемая функция"
   ]
  },
  {
   "cell_type": "code",
   "execution_count": 26,
   "metadata": {},
   "outputs": [],
   "source": [
    "#Функция для аппроксимации\n",
    "def ApproxFunc(x):\n",
    "    return x**2\n",
    "    #return np.sin(x)*10 + x**2"
   ]
  },
  {
   "cell_type": "code",
   "execution_count": 27,
   "metadata": {},
   "outputs": [
    {
     "data": {
      "text/plain": [
       "[<matplotlib.lines.Line2D at 0x17d63fd09d0>]"
      ]
     },
     "execution_count": 27,
     "metadata": {},
     "output_type": "execute_result"
    }
   ],
   "source": [
    "#интервал, на котором будем аппроксимировать функцию\n",
    "pcenter = 0\n",
    "prange = 10\n",
    "step = 0.1\n",
    "period = np.arange(pcenter-prange , pcenter+prange,step)\n",
    "plt.plot(period,ApproxFunc(period))"
   ]
  },
  {
   "attachments": {},
   "cell_type": "markdown",
   "metadata": {},
   "source": [
    "# Реализация нейронной сети"
   ]
  },
  {
   "cell_type": "code",
   "execution_count": 28,
   "metadata": {},
   "outputs": [],
   "source": [
    "class ApproximationNN(object):\n",
    "    def __init__(self, learning_rate=0.1, input_nodes=1, hidden_nodes=5, output_nodes=1):\n",
    "        input_nodes += 1\n",
    "        self.weights_0_1 = np.random.normal(\n",
    "            0.0, hidden_nodes ** -0.5, (hidden_nodes, input_nodes))\n",
    "        self.weights_1_2 = np.random.normal(\n",
    "            0.0, output_nodes ** -0.5, (output_nodes, hidden_nodes))\n",
    "        self.sigmoid_mapper = np.vectorize(self.sigmoid)\n",
    "        self.learning_rate = np.array([learning_rate])\n",
    "\n",
    "    def set_lr(lr):\n",
    "        self.learning_rate = np.array([lr])\n",
    "        \n",
    "    def sigmoid(self, x):\n",
    "        return 1 / (1 + np.exp(-x))\n",
    "    \n",
    "    def predict(self, inputs):\n",
    "        inputs = np.concatenate((inputs,[1]))\n",
    "        inputs_1 = np.dot(self.weights_0_1, inputs)\n",
    "        outputs_1 = self.sigmoid_mapper(inputs_1)\n",
    "        \n",
    "        inputs_2 = np.dot(self.weights_1_2, outputs_1)\n",
    "        #outputs_2 = self.sigmoid_mapper(inputs_2)\n",
    "        outputs_2 = inputs_2\n",
    "        return outputs_2\n",
    "    \n",
    "    def train(self, inputs, expected_predict):\n",
    "        inputs = np.concatenate((inputs,[1]))        \n",
    "        inputs_1 = np.dot(self.weights_0_1, inputs)\n",
    "        outputs_1 = self.sigmoid_mapper(inputs_1)\n",
    "        \n",
    "        inputs_2 = np.dot(self.weights_1_2, outputs_1)\n",
    "        #outputs_2 = self.sigmoid_mapper(inputs_2)\n",
    "        outputs_2 = inputs_2\n",
    "        actual_predict = outputs_2[0]\n",
    "        \n",
    "        error_layer_2 = np.array([actual_predict - expected_predict])\n",
    "        gradient_layer_2 = 1 # Здесь что-то я не так сделал. Нужно учитывать вес# actual_predict * (1 - actual_predict)\n",
    "        weights_delta_layer_2 = error_layer_2 * gradient_layer_2  \n",
    "        self.weights_1_2 -= (np.dot(weights_delta_layer_2, outputs_1.reshape(1, len(outputs_1)))) * self.learning_rate\n",
    "        \n",
    "        error_layer_1 = weights_delta_layer_2 * self.weights_1_2\n",
    "        gradient_layer_1 = outputs_1 * (1 - outputs_1)\n",
    "        weights_delta_layer_1 = error_layer_1 * gradient_layer_1\n",
    "        self.weights_0_1 -= np.dot(inputs.reshape(len(inputs), 1), weights_delta_layer_1).T  * self.learning_rate\n",
    "            \n"
   ]
  },
  {
   "cell_type": "code",
   "execution_count": 29,
   "metadata": {},
   "outputs": [],
   "source": [
    "lr = 0.00005\n",
    "myNN = ApproximationNN(learning_rate=lr, input_nodes=1,\n",
    "                       hidden_nodes=50, output_nodes=1)\n"
   ]
  },
  {
   "cell_type": "code",
   "execution_count": 30,
   "metadata": {},
   "outputs": [
    {
     "data": {
      "text/plain": [
       "[<matplotlib.lines.Line2D at 0x17d6406e110>]"
      ]
     },
     "execution_count": 30,
     "metadata": {},
     "output_type": "execute_result"
    }
   ],
   "source": [
    "set_count = 100\n",
    "rand_set = np.random.random(set_count)*2*prange-prange+pcenter\n",
    "plt.plot(rand_set)"
   ]
  },
  {
   "cell_type": "code",
   "execution_count": 31,
   "metadata": {},
   "outputs": [],
   "source": [
    "#Функция обучения\n",
    "def Train():\n",
    "    rand_set = np.random.random(set_count)*2*prange-prange+pcenter\n",
    "    for x in range(0, set_count-1):\n",
    "        myNN.train([rand_set[x]], ApproxFunc(rand_set[x]))"
   ]
  },
  {
   "cell_type": "code",
   "execution_count": 32,
   "metadata": {},
   "outputs": [],
   "source": [
    "def MSE(y, Y):\n",
    "    return np.mean((y-Y)**2)"
   ]
  },
  {
   "cell_type": "code",
   "execution_count": 33,
   "metadata": {},
   "outputs": [
    {
     "name": "stdout",
     "output_type": "stream",
     "text": [
      "864.8214914430728\n",
      "906.9204890706487\n",
      "567.7623897907531\n",
      "339.6951009377171\n",
      "276.3117785927636\n",
      "264.46766769475255\n",
      "111.57685503714993\n",
      "128.96242185186887\n",
      "44.31378484264674\n",
      "49.440430899058626\n",
      "37.46380612062475\n",
      "24.173570218971868\n",
      "19.699181515456836\n",
      "17.995320917423115\n",
      "18.782509799471505\n",
      "17.43865984762461\n",
      "13.056914514442393\n",
      "8.2439817715827\n",
      "8.890604659141127\n",
      "10.52757468345332\n",
      "4.471864836976186\n",
      "7.88788458111945\n",
      "4.557055129697579\n",
      "8.982068370639832\n",
      "4.889262009805817\n",
      "3.703607930968767\n",
      "3.324409243166347\n",
      "4.527072128364025\n",
      "3.7417963784788975\n",
      "3.4259297544328104\n",
      "3.4456798456456905\n"
     ]
    },
    {
     "name": "stderr",
     "output_type": "stream",
     "text": [
      "Exception in Tkinter callback\n",
      "Traceback (most recent call last):\n",
      "  File \"c:\\Users\\Alex\\AppData\\Local\\Programs\\Python\\Python311\\Lib\\tkinter\\__init__.py\", line 1948, in __call__\n",
      "    return self.func(*args)\n",
      "           ^^^^^^^^^^^^^^^^\n",
      "  File \"c:\\Users\\Alex\\AppData\\Local\\Programs\\Python\\Python311\\Lib\\tkinter\\__init__.py\", line 861, in callit\n",
      "    func(*args)\n",
      "  File \"c:\\Users\\Alex\\AppData\\Local\\Programs\\Python\\Python311\\Lib\\site-packages\\matplotlib\\backends\\_backend_tk.py\", line 251, in idle_draw\n",
      "    self.draw()\n",
      "  File \"c:\\Users\\Alex\\AppData\\Local\\Programs\\Python\\Python311\\Lib\\site-packages\\matplotlib\\backends\\backend_tkagg.py\", line 10, in draw\n",
      "    super().draw()\n",
      "  File \"c:\\Users\\Alex\\AppData\\Local\\Programs\\Python\\Python311\\Lib\\site-packages\\matplotlib\\backends\\backend_agg.py\", line 405, in draw\n",
      "    self.figure.draw(self.renderer)\n",
      "  File \"c:\\Users\\Alex\\AppData\\Local\\Programs\\Python\\Python311\\Lib\\site-packages\\matplotlib\\artist.py\", line 74, in draw_wrapper\n",
      "    result = draw(artist, renderer, *args, **kwargs)\n",
      "             ^^^^^^^^^^^^^^^^^^^^^^^^^^^^^^^^^^^^^^^\n",
      "  File \"c:\\Users\\Alex\\AppData\\Local\\Programs\\Python\\Python311\\Lib\\site-packages\\matplotlib\\artist.py\", line 51, in draw_wrapper\n",
      "    return draw(artist, renderer)\n",
      "           ^^^^^^^^^^^^^^^^^^^^^^\n",
      "  File \"c:\\Users\\Alex\\AppData\\Local\\Programs\\Python\\Python311\\Lib\\site-packages\\matplotlib\\figure.py\", line 3082, in draw\n",
      "    mimage._draw_list_compositing_images(\n",
      "  File \"c:\\Users\\Alex\\AppData\\Local\\Programs\\Python\\Python311\\Lib\\site-packages\\matplotlib\\image.py\", line 131, in _draw_list_compositing_images\n",
      "    a.draw(renderer)\n",
      "  File \"c:\\Users\\Alex\\AppData\\Local\\Programs\\Python\\Python311\\Lib\\site-packages\\matplotlib\\artist.py\", line 51, in draw_wrapper\n",
      "    return draw(artist, renderer)\n",
      "           ^^^^^^^^^^^^^^^^^^^^^^\n",
      "  File \"c:\\Users\\Alex\\AppData\\Local\\Programs\\Python\\Python311\\Lib\\site-packages\\matplotlib\\axes\\_base.py\", line 3100, in draw\n",
      "    mimage._draw_list_compositing_images(\n",
      "  File \"c:\\Users\\Alex\\AppData\\Local\\Programs\\Python\\Python311\\Lib\\site-packages\\matplotlib\\image.py\", line 131, in _draw_list_compositing_images\n",
      "    a.draw(renderer)\n",
      "  File \"c:\\Users\\Alex\\AppData\\Local\\Programs\\Python\\Python311\\Lib\\site-packages\\matplotlib\\artist.py\", line 51, in draw_wrapper\n",
      "    return draw(artist, renderer)\n",
      "           ^^^^^^^^^^^^^^^^^^^^^^\n",
      "  File \"c:\\Users\\Alex\\AppData\\Local\\Programs\\Python\\Python311\\Lib\\site-packages\\matplotlib\\collections.py\", line 976, in draw\n",
      "    super().draw(renderer)\n",
      "  File \"c:\\Users\\Alex\\AppData\\Local\\Programs\\Python\\Python311\\Lib\\site-packages\\matplotlib\\artist.py\", line 51, in draw_wrapper\n",
      "    return draw(artist, renderer)\n",
      "           ^^^^^^^^^^^^^^^^^^^^^^\n",
      "  File \"c:\\Users\\Alex\\AppData\\Local\\Programs\\Python\\Python311\\Lib\\site-packages\\matplotlib\\collections.py\", line 406, in draw\n",
      "    renderer.draw_markers(\n",
      "  File \"c:\\Users\\Alex\\AppData\\Local\\Programs\\Python\\Python311\\Lib\\site-packages\\matplotlib\\transforms.py\", line 1465, in __array__\n",
      "    return self.get_affine().get_matrix()\n",
      "           ^^^^^^^^^^^^^^^^^\n",
      "  File \"c:\\Users\\Alex\\AppData\\Local\\Programs\\Python\\Python311\\Lib\\site-packages\\matplotlib\\transforms.py\", line 2446, in get_affine\n",
      "    return Affine2D(np.dot(self._b.get_affine().get_matrix(),\n",
      "                           ^^^^^^^^^^^^^^^^^^^^\n",
      "  File \"c:\\Users\\Alex\\AppData\\Local\\Programs\\Python\\Python311\\Lib\\site-packages\\matplotlib\\transforms.py\", line 2446, in get_affine\n",
      "    return Affine2D(np.dot(self._b.get_affine().get_matrix(),\n",
      "                    ^^^^^^^^^^^^^^^^^^^^^^^^^^^^^^^^^^^^^^^^^\n",
      "  File \"<__array_function__ internals>\", line 200, in dot\n",
      "KeyboardInterrupt\n"
     ]
    },
    {
     "name": "stdout",
     "output_type": "stream",
     "text": [
      "1.8798602902688664\n",
      "2.5147576786007346\n",
      "1.5866683368135233\n",
      "2.443299478573538\n"
     ]
    }
   ],
   "source": [
    "epochs = 100\n",
    "plt.ion()\n",
    "for e in range(epochs):\n",
    "    for tr in range(100):\n",
    "        Train()\n",
    "    plt.clf()\n",
    "    plt.plot(period, ApproxFunc(period), 'blue')\n",
    "    rand_set = np.random.random(set_count)*2*prange-prange+pcenter\n",
    "    result_set=np.zeros(100)\n",
    "    MSE=0\n",
    "    for x in range(0, set_count-1):\n",
    "        result_set[x] = myNN.predict([rand_set[x]])\n",
    "        MSE+= (ApproxFunc(rand_set[x]) - result_set[x])**2\n",
    "        plt.scatter(rand_set[x], result_set[x], c='red')\n",
    "    plt.pause(1)    \n",
    "    print(MSE/set_count)"
   ]
  },
  {
   "cell_type": "code",
   "execution_count": null,
   "metadata": {},
   "outputs": [],
   "source": [
    "myNN.set_lr(0.000001)"
   ]
  }
 ],
 "metadata": {
  "kernelspec": {
   "display_name": "Python 3",
   "language": "python",
   "name": "python3"
  },
  "language_info": {
   "codemirror_mode": {
    "name": "ipython",
    "version": 3
   },
   "file_extension": ".py",
   "mimetype": "text/x-python",
   "name": "python",
   "nbconvert_exporter": "python",
   "pygments_lexer": "ipython3",
   "version": "3.11.1"
  },
  "orig_nbformat": 4
 },
 "nbformat": 4,
 "nbformat_minor": 2
}
